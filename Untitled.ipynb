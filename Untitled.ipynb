{
 "cells": [
  {
   "cell_type": "code",
   "execution_count": 5,
   "id": "024f2e57",
   "metadata": {},
   "outputs": [
    {
     "data": {
      "text/plain": [
       "(True, 'Dummy-Test-File (not a virus)', 0)"
      ]
     },
     "execution_count": 5,
     "metadata": {},
     "output_type": "execute_result"
    }
   ],
   "source": [
    "import dummy\n",
    "\n",
    "k = dummy.KavMain()\n",
    "\n",
    "k.init('')\n",
    "\n",
    "k.scan(None, 'dummy.txt')"
   ]
  },
  {
   "cell_type": "code",
   "execution_count": 7,
   "id": "255d30d7",
   "metadata": {},
   "outputs": [
    {
     "data": {
      "text/plain": [
       "['Dummy-Test-File (not a virus)']"
      ]
     },
     "execution_count": 7,
     "metadata": {},
     "output_type": "execute_result"
    }
   ],
   "source": [
    "k.viruslist()"
   ]
  },
  {
   "cell_type": "code",
   "execution_count": 8,
   "id": "74fe9e97",
   "metadata": {},
   "outputs": [
    {
     "data": {
      "text/plain": [
       "{'author': 'Kei Choi',\n",
       " 'version': '1.0',\n",
       " 'title': 'Dummy Scan Engine',\n",
       " 'kmd_name': 'dummy'}"
      ]
     },
     "execution_count": 8,
     "metadata": {},
     "output_type": "execute_result"
    }
   ],
   "source": [
    "k.getinfo()"
   ]
  },
  {
   "cell_type": "code",
   "execution_count": 12,
   "id": "3220c5db",
   "metadata": {},
   "outputs": [
    {
     "data": {
      "text/plain": [
       "0"
      ]
     },
     "execution_count": 12,
     "metadata": {},
     "output_type": "execute_result"
    }
   ],
   "source": [
    "k.uninit()"
   ]
  },
  {
   "cell_type": "code",
   "execution_count": 2,
   "id": "8b3a9d40",
   "metadata": {},
   "outputs": [
    {
     "name": "stdout",
     "output_type": "stream",
     "text": [
      "T1 îÞãy\n",
      "T2 hello\n"
     ]
    }
   ],
   "source": [
    "import k2rc4\n",
    "\n",
    "if __name__ == '__main__':\n",
    "    rc4 = k2rc4.RC4()\n",
    "    rc4.key('PASSWORD1234')\n",
    "    t1 = rc4.crypt('hello')\n",
    "\n",
    "    rc4 = k2rc4.RC4()\n",
    "    rc4.key('PASSWORD1234')\n",
    "    t2 = rc4.crypt(t1)\n",
    "\n",
    "    print(\"T1\", t1)\n",
    "    print(\"T2\", t2)"
   ]
  },
  {
   "cell_type": "code",
   "execution_count": 6,
   "id": "1d385106",
   "metadata": {},
   "outputs": [
    {
     "name": "stdout",
     "output_type": "stream",
     "text": [
      "[*] Make key : -f, C:\\Users\\82104\\AppData\\Roaming\\jupyter\\runtime\\kernel-64e39ed9-f5b7-49e8-b9da-4a5ab5bef5b0.json\n"
     ]
    }
   ],
   "source": [
    "import k2rsa\n",
    "import sys\n",
    "\n",
    "if __name__ == '__main__':\n",
    "    pu_fname = 'key.pkr'\n",
    "    pr_fname = 'key.skr'\n",
    "    \n",
    "    if len(sys.argv) == 3:\n",
    "        pu_fname = sys.argv[1]\n",
    "        pr_fname = sys.argv[2]\n",
    "    elif len(sys.argv) != 1:\n",
    "        print('Usage : mkkey.py [[PU filename], [PR filename]]')\n",
    "        exit(0)\n",
    "        \n",
    "    k2rsa.create_key(pu_fname, pr_fname, True)"
   ]
  },
  {
   "cell_type": "code",
   "execution_count": 2,
   "id": "b45a55fc",
   "metadata": {},
   "outputs": [
    {
     "name": "stdout",
     "output_type": "stream",
     "text": [
      "pu:  [845, 84223352570066778344941672950618922641806967955971063246499435560450067543061]\n",
      "body:  b'B\\r\\r\\n\\x00\\x00\\x00\\x009\\x18\\xacd\\xce\\x06\\x00\\x00\\xe3\\x00\\x00\\x00\\x00\\x00\\x00\\x00\\x00\\x00\\x00\\x00\\x00\\x03\\x00\\x00\\x00@\\x00\\x00\\x00s\"\\x00\\x00\\x00d\\x00d\\x01l\\x00Z\\x00d\\x00d\\x01l\\x01Z\\x01G\\x00d\\x02d\\x03\\x84\\x00d\\x03\\x83\\x02Z\\x02d\\x01S\\x00)\\x04\\xe9\\x00\\x00\\x00\\x00Nc\\x00\\x00\\x00\\x00\\x00\\x00\\x00\\x00\\x00\\x00\\x00\\x00\\x02\\x00\\x00\\x00@\\x00\\x00\\x00s<\\x00\\x00\\x00e\\x00Z\\x01d\\x00Z\\x02d\\x01d\\x02\\x84\\x00Z\\x03d\\x03d\\x04\\x84\\x00Z\\x04d\\x05d\\x06\\x84\\x00Z\\x05d\\x07d\\x08\\x84\\x00Z\\x06d\\td\\n\\x84\\x00Z\\x07d\\x0bd\\x0c\\x84\\x00Z\\x08d\\rS\\x00)\\x0e\\xda\\x07KavMainc\\x02\\x00\\x00\\x00\\x00\\x00\\x00\\x00\\x02\\x00\\x00\\x00\\x02\\x00\\x00\\x00C\\x00\\x00\\x00s\\x10\\x00\\x00\\x00d\\x01|\\x00_\\x00d\\x02|\\x00_\\x01d\\x03S\\x00)\\x04Nz\\x1dDummy-Test-File (not a virus)z1Dummy Engine test file - KICOM Anti-Virus Projectr\\x01\\x00\\x00\\x00)\\x02\\xda\\nvirus_name\\xda\\rdummy_pattern)\\x02\\xda\\x04selfZ\\x0cplugins_path\\xa9\\x00r\\x06\\x00\\x00\\x00\\xfa\\x08dummy.py\\xda\\x04init\\x05\\x00\\x00\\x00s\\x06\\x00\\x00\\x00\\x00\\x02\\x06\\x02\\x06\\x02z\\x0cKavMain.initc\\x01\\x00\\x00\\x00\\x00\\x00\\x00\\x00\\x01\\x00\\x00\\x00\\x01\\x00\\x00\\x00C\\x00\\x00\\x00s\\x0c\\x00\\x00\\x00|\\x00`\\x00|\\x00`\\x01d\\x01S\\x00)\\x02Nr\\x01\\x00\\x00\\x00)\\x02r\\x03\\x00\\x00\\x00r\\x04\\x00\\x00\\x00)\\x01r\\x05\\x00\\x00\\x00r\\x06\\x00\\x00\\x00r\\x06\\x00\\x00\\x00r\\x07\\x00\\x00\\x00\\xda\\x06uninit\\r\\x00\\x00\\x00s\\x06\\x00\\x00\\x00\\x00\\x01\\x04\\x01\\x04\\x02z\\x0eKavMain.uninitc\\x03\\x00\\x00\\x00\\x00\\x00\\x00\\x00\\x05\\x00\\x00\\x00\\t\\x00\\x00\\x00C\\x00\\x00\\x00sX\\x00\\x00\\x00y>t\\x00|\\x02\\x83\\x01\\x8f\\x16}\\x03|\\x03\\xa0\\x01t\\x02|\\x00j\\x03\\x83\\x01\\xa1\\x01}\\x04W\\x00d\\x00Q\\x00R\\x00X\\x00|\\x04|\\x00j\\x03k\\x02r<d\\x01|\\x00j\\x04d\\x02f\\x03S\\x00W\\x00n\\x14\\x04\\x00t\\x05k\\nrR\\x01\\x00\\x01\\x00\\x01\\x00Y\\x00n\\x02X\\x00d\\x03S\\x00)\\x04NTr\\x01\\x00\\x00\\x00)\\x03F\\xda\\x00\\xe9\\xff\\xff\\xff\\xff)\\x06\\xda\\x04open\\xda\\x04read\\xda\\x03lenr\\x04\\x00\\x00\\x00r\\x03\\x00\\x00\\x00\\xda\\x07IOError)\\x05r\\x05\\x00\\x00\\x00Z\\nfilehandle\\xda\\x08filename\\xda\\x02fp\\xda\\x03bufr\\x06\\x00\\x00\\x00r\\x06\\x00\\x00\\x00r\\x07\\x00\\x00\\x00\\xda\\x04scan\\x13\\x00\\x00\\x00s\\x10\\x00\\x00\\x00\\x00\\x01\\x02\\x01\\n\\x01\\x1a\\x02\\n\\x01\\x10\\x02\\x0e\\x01\\x06\\x02z\\x0cKavMain.scanc\\x03\\x00\\x00\\x00\\x00\\x00\\x00\\x00\\x03\\x00\\x00\\x00\\x08\\x00\\x00\\x00C\\x00\\x00\\x00s4\\x00\\x00\\x00y\\x1a|\\x02d\\x01k\\x02r\\x18t\\x00\\xa0\\x01|\\x01\\xa1\\x01\\x01\\x00d\\x02S\\x00W\\x00n\\x14\\x04\\x00t\\x02k\\nr.\\x01\\x00\\x01\\x00\\x01\\x00Y\\x00n\\x02X\\x00d\\x00S\\x00)\\x03Nr\\x01\\x00\\x00\\x00T)\\x03\\xda\\x02os\\xda\\x06remover\\x0f\\x00\\x00\\x00)\\x03r\\x05\\x00\\x00\\x00r\\x10\\x00\\x00\\x00Z\\nmalware_idr\\x06\\x00\\x00\\x00r\\x06\\x00\\x00\\x00r\\x07\\x00\\x00\\x00\\xda\\x0bdisinfected!\\x00\\x00\\x00s\\x0c\\x00\\x00\\x00\\x00\\x01\\x02\\x01\\x08\\x01\\n\\x01\\x08\\x02\\x0e\\x01z\\x13KavMain.disinfectedc\\x01\\x00\\x00\\x00\\x00\\x00\\x00\\x00\\x02\\x00\\x00\\x00\\x03\\x00\\x00\\x00C\\x00\\x00\\x00s\\x16\\x00\\x00\\x00t\\x00\\x83\\x00}\\x01|\\x01\\xa0\\x01|\\x00j\\x02\\xa1\\x01\\x01\\x00|\\x01S\\x00)\\x01N)\\x03\\xda\\x04list\\xda\\x06appendr\\x03\\x00\\x00\\x00)\\x02r\\x05\\x00\\x00\\x00\\xda\\x05vlistr\\x06\\x00\\x00\\x00r\\x06\\x00\\x00\\x00r\\x07\\x00\\x00\\x00\\xda\\tviruslist*\\x00\\x00\\x00s\\x06\\x00\\x00\\x00\\x00\\x01\\x06\\x01\\x0c\\x02z\\x11KavMain.viruslistc\\x01\\x00\\x00\\x00\\x00\\x00\\x00\\x00\\x02\\x00\\x00\\x00\\x03\\x00\\x00\\x00C\\x00\\x00\\x00s*\\x00\\x00\\x00t\\x00\\x83\\x00}\\x01d\\x01|\\x01d\\x02<\\x00d\\x03|\\x01d\\x04<\\x00d\\x05|\\x01d\\x06<\\x00d\\x07|\\x01d\\x08<\\x00|\\x01S\\x00)\\tNz\\x08Kei Choi\\xda\\x06authorz\\x031.0\\xda\\x07versionz\\x11Dummy Scan Engine\\xda\\x05title\\xda\\x05dummy\\xda\\x08kmd_name)\\x01\\xda\\x04dict)\\x02r\\x05\\x00\\x00\\x00\\xda\\x04infor\\x06\\x00\\x00\\x00r\\x06\\x00\\x00\\x00r\\x07\\x00\\x00\\x00\\xda\\x07getinfo0\\x00\\x00\\x00s\\x0c\\x00\\x00\\x00\\x00\\x01\\x06\\x02\\x08\\x01\\x08\\x01\\x08\\x01\\x08\\x02z\\x0fKavMain.getinfoN)\\t\\xda\\x08__name__\\xda\\n__module__\\xda\\x0c__qualname__r\\x08\\x00\\x00\\x00r\\t\\x00\\x00\\x00r\\x13\\x00\\x00\\x00r\\x16\\x00\\x00\\x00r\\x1a\\x00\\x00\\x00r\"\\x00\\x00\\x00r\\x06\\x00\\x00\\x00r\\x06\\x00\\x00\\x00r\\x06\\x00\\x00\\x00r\\x07\\x00\\x00\\x00r\\x02\\x00\\x00\\x00\\x04\\x00\\x00\\x00s\\x0c\\x00\\x00\\x00\\x08\\x01\\x08\\x08\\x08\\x06\\x08\\x0e\\x08\\t\\x08\\x06r\\x02\\x00\\x00\\x00)\\x03r\\x14\\x00\\x00\\x00\\xda\\x07hashlibr\\x02\\x00\\x00\\x00r\\x06\\x00\\x00\\x00r\\x06\\x00\\x00\\x00r\\x06\\x00\\x00\\x00r\\x07\\x00\\x00\\x00\\xda\\x08<module>\\x01\\x00\\x00\\x00s\\x04\\x00\\x00\\x00\\x08\\x01\\x08\\x02'\n"
     ]
    }
   ],
   "source": [
    "import k2rsa\n",
    "import k2kmdfile\n",
    "\n",
    "k2rsa.create_key('key.pkr', 'key.skr')\n",
    "\n",
    "ret = k2kmdfile.make('readme2.txt')\n",
    "if ret:\n",
    "    pu = k2rsa.read_key('key.pkr')\n",
    "    print('pu: ', pu)\n",
    "    k = k2kmdfile.KMD('readme2.kmd', pu)\n",
    "    print('body: ', k.body)"
   ]
  },
  {
   "cell_type": "code",
   "execution_count": 8,
   "id": "473e5682",
   "metadata": {},
   "outputs": [
    {
     "name": "stdout",
     "output_type": "stream",
     "text": [
      "b'B\\r\\r\\n\\x00\\x00\\x00\\x009\\x18\\xacd\\xce\\x06\\x00\\x00\\xe3\\x00\\x00\\x00\\x00\\x00\\x00\\x00\\x00\\x00\\x00\\x00\\x00\\x03\\x00\\x00\\x00@\\x00\\x00\\x00s\"\\x00\\x00\\x00d\\x00d\\x01l\\x00Z\\x00d\\x00d\\x01l\\x01Z\\x01G\\x00d\\x02d\\x03\\x84\\x00d\\x03\\x83\\x02Z\\x02d\\x01S\\x00)\\x04\\xe9\\x00\\x00\\x00\\x00Nc\\x00\\x00\\x00\\x00\\x00\\x00\\x00\\x00\\x00\\x00\\x00\\x00\\x02\\x00\\x00\\x00@\\x00\\x00\\x00s<\\x00\\x00\\x00e\\x00Z\\x01d\\x00Z\\x02d\\x01d\\x02\\x84\\x00Z\\x03d\\x03d\\x04\\x84\\x00Z\\x04d\\x05d\\x06\\x84\\x00Z\\x05d\\x07d\\x08\\x84\\x00Z\\x06d\\td\\n\\x84\\x00Z\\x07d\\x0bd\\x0c\\x84\\x00Z\\x08d\\rS\\x00)\\x0e\\xda\\x07KavMainc\\x02\\x00\\x00\\x00\\x00\\x00\\x00\\x00\\x02\\x00\\x00\\x00\\x02\\x00\\x00\\x00C\\x00\\x00\\x00s\\x10\\x00\\x00\\x00d\\x01|\\x00_\\x00d\\x02|\\x00_\\x01d\\x03S\\x00)\\x04Nz\\x1dDummy-Test-File (not a virus)z1Dummy Engine test file - KICOM Anti-Virus Projectr\\x01\\x00\\x00\\x00)\\x02\\xda\\nvirus_name\\xda\\rdummy_pattern)\\x02\\xda\\x04selfZ\\x0cplugins_path\\xa9\\x00r\\x06\\x00\\x00\\x00\\xfa\\x08dummy.py\\xda\\x04init\\x05\\x00\\x00\\x00s\\x06\\x00\\x00\\x00\\x00\\x02\\x06\\x02\\x06\\x02z\\x0cKavMain.initc\\x01\\x00\\x00\\x00\\x00\\x00\\x00\\x00\\x01\\x00\\x00\\x00\\x01\\x00\\x00\\x00C\\x00\\x00\\x00s\\x0c\\x00\\x00\\x00|\\x00`\\x00|\\x00`\\x01d\\x01S\\x00)\\x02Nr\\x01\\x00\\x00\\x00)\\x02r\\x03\\x00\\x00\\x00r\\x04\\x00\\x00\\x00)\\x01r\\x05\\x00\\x00\\x00r\\x06\\x00\\x00\\x00r\\x06\\x00\\x00\\x00r\\x07\\x00\\x00\\x00\\xda\\x06uninit\\r\\x00\\x00\\x00s\\x06\\x00\\x00\\x00\\x00\\x01\\x04\\x01\\x04\\x02z\\x0eKavMain.uninitc\\x03\\x00\\x00\\x00\\x00\\x00\\x00\\x00\\x05\\x00\\x00\\x00\\t\\x00\\x00\\x00C\\x00\\x00\\x00sX\\x00\\x00\\x00y>t\\x00|\\x02\\x83\\x01\\x8f\\x16}\\x03|\\x03\\xa0\\x01t\\x02|\\x00j\\x03\\x83\\x01\\xa1\\x01}\\x04W\\x00d\\x00Q\\x00R\\x00X\\x00|\\x04|\\x00j\\x03k\\x02r<d\\x01|\\x00j\\x04d\\x02f\\x03S\\x00W\\x00n\\x14\\x04\\x00t\\x05k\\nrR\\x01\\x00\\x01\\x00\\x01\\x00Y\\x00n\\x02X\\x00d\\x03S\\x00)\\x04NTr\\x01\\x00\\x00\\x00)\\x03F\\xda\\x00\\xe9\\xff\\xff\\xff\\xff)\\x06\\xda\\x04open\\xda\\x04read\\xda\\x03lenr\\x04\\x00\\x00\\x00r\\x03\\x00\\x00\\x00\\xda\\x07IOError)\\x05r\\x05\\x00\\x00\\x00Z\\nfilehandle\\xda\\x08filename\\xda\\x02fp\\xda\\x03bufr\\x06\\x00\\x00\\x00r\\x06\\x00\\x00\\x00r\\x07\\x00\\x00\\x00\\xda\\x04scan\\x13\\x00\\x00\\x00s\\x10\\x00\\x00\\x00\\x00\\x01\\x02\\x01\\n\\x01\\x1a\\x02\\n\\x01\\x10\\x02\\x0e\\x01\\x06\\x02z\\x0cKavMain.scanc\\x03\\x00\\x00\\x00\\x00\\x00\\x00\\x00\\x03\\x00\\x00\\x00\\x08\\x00\\x00\\x00C\\x00\\x00\\x00s4\\x00\\x00\\x00y\\x1a|\\x02d\\x01k\\x02r\\x18t\\x00\\xa0\\x01|\\x01\\xa1\\x01\\x01\\x00d\\x02S\\x00W\\x00n\\x14\\x04\\x00t\\x02k\\nr.\\x01\\x00\\x01\\x00\\x01\\x00Y\\x00n\\x02X\\x00d\\x00S\\x00)\\x03Nr\\x01\\x00\\x00\\x00T)\\x03\\xda\\x02os\\xda\\x06remover\\x0f\\x00\\x00\\x00)\\x03r\\x05\\x00\\x00\\x00r\\x10\\x00\\x00\\x00Z\\nmalware_idr\\x06\\x00\\x00\\x00r\\x06\\x00\\x00\\x00r\\x07\\x00\\x00\\x00\\xda\\x0bdisinfected!\\x00\\x00\\x00s\\x0c\\x00\\x00\\x00\\x00\\x01\\x02\\x01\\x08\\x01\\n\\x01\\x08\\x02\\x0e\\x01z\\x13KavMain.disinfectedc\\x01\\x00\\x00\\x00\\x00\\x00\\x00\\x00\\x02\\x00\\x00\\x00\\x03\\x00\\x00\\x00C\\x00\\x00\\x00s\\x16\\x00\\x00\\x00t\\x00\\x83\\x00}\\x01|\\x01\\xa0\\x01|\\x00j\\x02\\xa1\\x01\\x01\\x00|\\x01S\\x00)\\x01N)\\x03\\xda\\x04list\\xda\\x06appendr\\x03\\x00\\x00\\x00)\\x02r\\x05\\x00\\x00\\x00\\xda\\x05vlistr\\x06\\x00\\x00\\x00r\\x06\\x00\\x00\\x00r\\x07\\x00\\x00\\x00\\xda\\tviruslist*\\x00\\x00\\x00s\\x06\\x00\\x00\\x00\\x00\\x01\\x06\\x01\\x0c\\x02z\\x11KavMain.viruslistc\\x01\\x00\\x00\\x00\\x00\\x00\\x00\\x00\\x02\\x00\\x00\\x00\\x03\\x00\\x00\\x00C\\x00\\x00\\x00s*\\x00\\x00\\x00t\\x00\\x83\\x00}\\x01d\\x01|\\x01d\\x02<\\x00d\\x03|\\x01d\\x04<\\x00d\\x05|\\x01d\\x06<\\x00d\\x07|\\x01d\\x08<\\x00|\\x01S\\x00)\\tNz\\x08Kei Choi\\xda\\x06authorz\\x031.0\\xda\\x07versionz\\x11Dummy Scan Engine\\xda\\x05title\\xda\\x05dummy\\xda\\x08kmd_name)\\x01\\xda\\x04dict)\\x02r\\x05\\x00\\x00\\x00\\xda\\x04infor\\x06\\x00\\x00\\x00r\\x06\\x00\\x00\\x00r\\x07\\x00\\x00\\x00\\xda\\x07getinfo0\\x00\\x00\\x00s\\x0c\\x00\\x00\\x00\\x00\\x01\\x06\\x02\\x08\\x01\\x08\\x01\\x08\\x01\\x08\\x02z\\x0fKavMain.getinfoN)\\t\\xda\\x08__name__\\xda\\n__module__\\xda\\x0c__qualname__r\\x08\\x00\\x00\\x00r\\t\\x00\\x00\\x00r\\x13\\x00\\x00\\x00r\\x16\\x00\\x00\\x00r\\x1a\\x00\\x00\\x00r\"\\x00\\x00\\x00r\\x06\\x00\\x00\\x00r\\x06\\x00\\x00\\x00r\\x06\\x00\\x00\\x00r\\x07\\x00\\x00\\x00r\\x02\\x00\\x00\\x00\\x04\\x00\\x00\\x00s\\x0c\\x00\\x00\\x00\\x08\\x01\\x08\\x08\\x08\\x06\\x08\\x0e\\x08\\t\\x08\\x06r\\x02\\x00\\x00\\x00)\\x03r\\x14\\x00\\x00\\x00\\xda\\x07hashlibr\\x02\\x00\\x00\\x00r\\x06\\x00\\x00\\x00r\\x06\\x00\\x00\\x00r\\x06\\x00\\x00\\x00r\\x07\\x00\\x00\\x00\\xda\\x08<module>\\x01\\x00\\x00\\x00s\\x04\\x00\\x00\\x00\\x08\\x01\\x08\\x02'\n"
     ]
    }
   ],
   "source": [
    "import k2rsa\n",
    "import k2kmdfile\n",
    "\n",
    "pu = k2rsa.read_key('key.pkr')\n",
    "k = k2kmdfile.KMD('dummy.kmd', pu)\n",
    "print(k.body)"
   ]
  },
  {
   "cell_type": "code",
   "execution_count": 10,
   "id": "a61ad611",
   "metadata": {},
   "outputs": [
    {
     "name": "stdout",
     "output_type": "stream",
     "text": [
      "['Dummy-Test-File (not a virus)']\n"
     ]
    },
    {
     "data": {
      "text/plain": [
       "0"
      ]
     },
     "execution_count": 10,
     "metadata": {},
     "output_type": "execute_result"
    }
   ],
   "source": [
    "import k2kmdfile\n",
    "import k2rsa\n",
    "import dummy\n",
    "\n",
    "pu = k2rsa.read_key('key.pkr')\n",
    "k = k2kmdfile.KMD('dummy.kmd', pu)\n",
    "module = k2kmdfile.load('dummy', k.body)\n",
    "\n",
    "import dummy\n",
    "\n",
    "kav = dummy.KavMain()\n",
    "kav.init('.')\n",
    "print(kav.viruslist())\n",
    "kav.uninit()"
   ]
  },
  {
   "cell_type": "code",
   "execution_count": 2,
   "id": "3f218493",
   "metadata": {},
   "outputs": [
    {
     "name": "stdout",
     "output_type": "stream",
     "text": [
      "{'author': 'Kei Choi', 'version': '1.0', 'title': 'Dummy Scan Engine', 'kmd_name': 'dummy'}\n"
     ]
    },
    {
     "data": {
      "text/plain": [
       "0"
      ]
     },
     "execution_count": 2,
     "metadata": {},
     "output_type": "execute_result"
    }
   ],
   "source": [
    "import k2kmdfile\n",
    "import k2rsa\n",
    "\n",
    "pu = k2rsa.read_key('key.pkr')\n",
    "k = k2kmdfile.KMD('dummy.kmd', pu)\n",
    "module = k2kmdfile.load('dummy', k.body)\n",
    "\n",
    "kav = module.KavMain()\n",
    "kav.init('.')\n",
    "print(kav.getinfo())\n",
    "kav.uninit()"
   ]
  },
  {
   "cell_type": "code",
   "execution_count": 9,
   "id": "8ff251fc",
   "metadata": {},
   "outputs": [
    {
     "ename": "ValueError",
     "evalue": "bad marshal data (unknown type code)",
     "output_type": "error",
     "traceback": [
      "\u001b[1;31m---------------------------------------------------------------------------\u001b[0m",
      "\u001b[1;31mValueError\u001b[0m                                Traceback (most recent call last)",
      "\u001b[1;32m~\\AppData\\Local\\Temp\\ipykernel_16084\\1654350793.py\u001b[0m in \u001b[0;36m<module>\u001b[1;34m\u001b[0m\n\u001b[0;32m      8\u001b[0m \u001b[0mk\u001b[0m \u001b[1;33m=\u001b[0m \u001b[0mk2kmdfile\u001b[0m\u001b[1;33m.\u001b[0m\u001b[0mKMD\u001b[0m\u001b[1;33m(\u001b[0m\u001b[1;34m'dummy.kmd'\u001b[0m\u001b[1;33m,\u001b[0m \u001b[0mpu\u001b[0m\u001b[1;33m)\u001b[0m\u001b[1;33m\u001b[0m\u001b[1;33m\u001b[0m\u001b[0m\n\u001b[0;32m      9\u001b[0m \u001b[1;33m\u001b[0m\u001b[0m\n\u001b[1;32m---> 10\u001b[1;33m \u001b[0mcode\u001b[0m \u001b[1;33m=\u001b[0m \u001b[0mmarshal\u001b[0m\u001b[1;33m.\u001b[0m\u001b[0mloads\u001b[0m\u001b[1;33m(\u001b[0m\u001b[0mk\u001b[0m\u001b[1;33m.\u001b[0m\u001b[0mbody\u001b[0m\u001b[1;33m[\u001b[0m\u001b[1;36m8\u001b[0m\u001b[1;33m:\u001b[0m\u001b[1;33m]\u001b[0m\u001b[1;33m)\u001b[0m\u001b[1;33m\u001b[0m\u001b[1;33m\u001b[0m\u001b[0m\n\u001b[0m\u001b[0;32m     11\u001b[0m \u001b[0mmodule\u001b[0m \u001b[1;33m=\u001b[0m \u001b[0mimp\u001b[0m\u001b[1;33m.\u001b[0m\u001b[0mnew_module\u001b[0m\u001b[1;33m(\u001b[0m\u001b[1;34m'dummy'\u001b[0m\u001b[1;33m)\u001b[0m\u001b[1;33m\u001b[0m\u001b[1;33m\u001b[0m\u001b[0m\n\u001b[0;32m     12\u001b[0m \u001b[0mexec\u001b[0m\u001b[1;33m(\u001b[0m\u001b[0mcode\u001b[0m\u001b[1;33m,\u001b[0m \u001b[0mmodule\u001b[0m\u001b[1;33m.\u001b[0m\u001b[0m__dict__\u001b[0m\u001b[1;33m)\u001b[0m\u001b[1;33m\u001b[0m\u001b[1;33m\u001b[0m\u001b[0m\n",
      "\u001b[1;31mValueError\u001b[0m: bad marshal data (unknown type code)"
     ]
    }
   ],
   "source": [
    "import k2rsa\n",
    "import k2kmdfile\n",
    "import imp\n",
    "import marshal\n",
    "import sys\n",
    "\n",
    "pu = k2rsa.read_key('key.pkr')\n",
    "k = k2kmdfile.KMD('dummy.kmd', pu)\n",
    "\n",
    "code = marshal.loads(k.body[8:])\n",
    "module = imp.new_module('dummy')\n",
    "exec(code, module.__dict__)\n",
    "sys.modules['dummy'] = module\n",
    "\n",
    "print(dir(module))"
   ]
  },
  {
   "cell_type": "code",
   "execution_count": null,
   "id": "fc57bde9",
   "metadata": {},
   "outputs": [],
   "source": []
  }
 ],
 "metadata": {
  "kernelspec": {
   "display_name": "Python 3 (ipykernel)",
   "language": "python",
   "name": "python3"
  },
  "language_info": {
   "codemirror_mode": {
    "name": "ipython",
    "version": 3
   },
   "file_extension": ".py",
   "mimetype": "text/x-python",
   "name": "python",
   "nbconvert_exporter": "python",
   "pygments_lexer": "ipython3",
   "version": "3.7.13"
  }
 },
 "nbformat": 4,
 "nbformat_minor": 5
}
